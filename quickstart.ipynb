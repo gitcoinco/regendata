{
 "cells": [
  {
   "cell_type": "code",
   "execution_count": 11,
   "metadata": {},
   "outputs": [],
   "source": [
    "import pandas as pd\n",
    "import numpy as np\n",
    "from datetime import datetime, timezone\n",
    "import psycopg2 as pg"
   ]
  },
  {
   "cell_type": "code",
   "execution_count": 12,
   "metadata": {},
   "outputs": [],
   "source": [
    "## PASTE IN CONNECTION DETAILS BELOW OR LOAD DOT ENV\n",
    "host = ''\n",
    "port = ''\n",
    "dbname = ''\n",
    "user = '' \n",
    "password = '' \n",
    "\n",
    "def run_query(query):\n",
    "    \"\"\"Run query and return results\"\"\"\n",
    "    try:\n",
    "        conn = pg.connect(host=host, port=port, dbname=dbname, user=user, password=password)\n",
    "        cur = conn.cursor()\n",
    "        cur.execute(query)\n",
    "        col_names = [desc[0] for desc in cur.description]\n",
    "        results = pd.DataFrame(cur.fetchall(), columns=col_names)\n",
    "    except pg.Error as e:\n",
    "        print(f\"ERROR: Could not execute the query. {e}\")\n",
    "    finally:\n",
    "        conn.close()\n",
    "    return results"
   ]
  },
  {
   "cell_type": "code",
   "execution_count": 6,
   "metadata": {},
   "outputs": [],
   "source": [
    "## REPLACE QUERY BELOW\n",
    "\n",
    "sql_query = \"\"\"\n",
    "\n",
    "SELECT\n",
    "  *\n",
    "FROM\n",
    "  \"public\".\"all_donations\"\n",
    "LIMIT 100\n",
    " \n",
    "\"\"\""
   ]
  },
  {
   "cell_type": "code",
   "execution_count": null,
   "metadata": {},
   "outputs": [],
   "source": [
    "df = run_query(sql_query)\n",
    "df.head()"
   ]
  }
 ],
 "metadata": {
  "kernelspec": {
   "display_name": "base",
   "language": "python",
   "name": "python3"
  },
  "language_info": {
   "codemirror_mode": {
    "name": "ipython",
    "version": 3
   },
   "file_extension": ".py",
   "mimetype": "text/x-python",
   "name": "python",
   "nbconvert_exporter": "python",
   "pygments_lexer": "ipython3",
   "version": "3.10.11"
  }
 },
 "nbformat": 4,
 "nbformat_minor": 2
}
