{
 "cells": [
  {
   "cell_type": "code",
   "execution_count": 9,
   "metadata": {},
   "outputs": [
    {
     "name": "stderr",
     "output_type": "stream",
     "text": [
      "2024-11-07 14:27:57,822 INFO __main__ Loaded .env file\n",
      "2024-11-07 14:27:57,823 INFO __main__ Initializing Dune client\n",
      "2024-11-07 14:27:57,824 INFO __main__ Fetching latest results from query 4118421\n",
      "2024-11-07 14:27:58,742 INFO __main__ Successfully retrieved query results\n",
      "2024-11-07 14:28:03,634 INFO __main__ Successfully uploaded 1939 rows to table allov2_distribution_events_for_leaderboard\n"
     ]
    }
   ],
   "source": [
    "from dune_client.client import DuneClient\n",
    "import pandas as pd\n",
    "import logging\n",
    "import os\n",
    "from sqlalchemy import create_engine\n",
    "from dotenv import load_dotenv\n",
    "\n",
    "def main():\n",
    "    # Set up logging\n",
    "    logging.basicConfig(level=logging.INFO, format='%(asctime)s - %(levelname)s - %(message)s')\n",
    "    logger = logging.getLogger(__name__)\n",
    "\n",
    "    # Load environment variables\n",
    "    try:\n",
    "        if load_dotenv():\n",
    "            logger.info(\"Loaded .env file\")\n",
    "        else:\n",
    "            logger.info(\"No .env file found or loaded\")\n",
    "    except ImportError:\n",
    "        logger.info(\"dotenv not installed, skipping .env file loading\")\n",
    "\n",
    "    # Initialize Dune client and get query results\n",
    "    DUNE_API_KEY = os.getenv('DUNE_API_KEY')\n",
    "    logger.info(\"Initializing Dune client\")\n",
    "    dune = DuneClient(DUNE_API_KEY)\n",
    "    logger.info(\"Fetching latest results from query 4118421\")\n",
    "    query_result = dune.get_latest_result(4118421)\n",
    "    logger.info(\"Successfully retrieved query results\")\n",
    "    query_result_df = pd.DataFrame(query_result.result.rows)\n",
    "\n",
    "    # Get database connection details\n",
    "    DB_HOST = os.getenv('DB_HOST')\n",
    "    DB_NAME = 'Grants'\n",
    "    DB_USER = os.getenv('DB_USER')\n",
    "    DB_PASSWORD = os.getenv('DB_PASSWORD')\n",
    "\n",
    "    # Create database connection\n",
    "    db_url = f\"postgresql://{DB_USER}:{DB_PASSWORD}@{DB_HOST}/{DB_NAME}\"\n",
    "    engine = create_engine(db_url)\n",
    "\n",
    "    # Upload dataframe to database\n",
    "    table_name = 'allov2_distribution_events_for_leaderboard'\n",
    "    query_result_df.to_sql(\n",
    "        name=table_name,\n",
    "        con=engine,\n",
    "        schema='experimental_views',\n",
    "        if_exists='replace',\n",
    "        index=False\n",
    "    )\n",
    "\n",
    "    logger.info(f\"Successfully uploaded {len(query_result_df)} rows to table {table_name}\")\n",
    "\n",
    "if __name__ == \"__main__\":\n",
    "    main()\n"
   ]
  }
 ],
 "metadata": {
  "kernelspec": {
   "display_name": "base",
   "language": "python",
   "name": "python3"
  },
  "language_info": {
   "codemirror_mode": {
    "name": "ipython",
    "version": 3
   },
   "file_extension": ".py",
   "mimetype": "text/x-python",
   "name": "python",
   "nbconvert_exporter": "python",
   "pygments_lexer": "ipython3",
   "version": "3.10.14"
  }
 },
 "nbformat": 4,
 "nbformat_minor": 2
}
